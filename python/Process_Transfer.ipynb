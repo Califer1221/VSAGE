{
 "cells": [
  {
   "cell_type": "markdown",
   "metadata": {},
   "source": [
    "### 5/9/2021 replace standard cell from 65nm to 28nm"
   ]
  },
  {
   "cell_type": "code",
   "execution_count": 5,
   "metadata": {},
   "outputs": [],
   "source": [
    "import sys\n",
    "import re\n",
    "import os\n",
    "#import linecache\n",
    "#import numpy as np \n",
    "#import codecs\n",
    "#import numpy as np\n",
    "#import matplotlib.pyplot as plt\n",
    "from icecream import ic\n",
    "import time"
   ]
  },
  {
   "cell_type": "code",
   "execution_count": 6,
   "metadata": {},
   "outputs": [],
   "source": [
    "#suffix\n",
    "#attention!!!  space for the old word is needed\n",
    "#use DEL025 to replace DEL005 in 28nm\n",
    "\n",
    "infile = open(\"Process_tranfer_input.v\", \"r\",encoding='utf-8')  \n",
    "outfile = open(\"Process_tranfer_output.v\", \"w\",encoding='utf-8') \n",
    "for line in infile:  \n",
    "      outfile.write(line.replace('INVD1 ', 'INVD1BWP12T30P140LVT ').replace('INVD2 ', 'INVD2BWP12T30P140LVT ')\\\n",
    "                    .replace('INVD3 ', 'INVD3BWP12T30P140LVT ').replace('INVD6 ', 'INVD6BWP12T30P140LVT ')\\\n",
    "                    .replace('INVD4 ', 'INVD4BWP12T30P140LVT ').replace('INVD8 ', 'INVD8BWP12T30P140LVT ')\\\n",
    "                    .replace('INVD12 ', 'INVD12BWP12T30P140LVT ').replace('INVD16 ', 'INVD16BWP12T30P140LVT ')\\\n",
    "                    .replace('INVD20 ', 'INVD20BWP12T30P140LVT ').replace('INVD24 ', 'INVD24BWP12T30P140LVT ')\\\n",
    "                    .replace('XOR2D1 ', 'XOR2D1BWP12T30P140LVT ').replace('NR2D1 ', 'NR2D1BWP12T30P140LVT ')\\\n",
    "                    .replace('NR3D1 ', 'NR3D1BWP12T30P140LVT '). replace('DFD1 ', 'DFD1BWP12T30P140LVT ')\\\n",
    "                   .replace('ND2D0 ', 'ND2D0BWP12T30P140LVT '). replace('DFCND1 ', 'DFCND1BWP12T30P140LVT ')\\\n",
    "                   .replace('DEL005 ', 'DEL075D1BWP12T30P140LVT '). replace('CKBD3 ', 'CKBD3BWP12T30P140LVT ')\\\n",
    "                   .replace('CKBD6 ', 'CKBD6BWP12T30P140LVT '))\n",
    "                    #first is old ,second is new\n",
    "                    #delay for 28nm is size 75, which is about 50ps\n",
    "                    \n",
    "infile.close()    \n",
    "outfile.close()"
   ]
  },
  {
   "cell_type": "code",
   "execution_count": null,
   "metadata": {},
   "outputs": [],
   "source": []
  }
 ],
 "metadata": {
  "kernelspec": {
   "display_name": "Python 3 (ipykernel)",
   "language": "python",
   "name": "python3"
  },
  "language_info": {
   "codemirror_mode": {
    "name": "ipython",
    "version": 3
   },
   "file_extension": ".py",
   "mimetype": "text/x-python",
   "name": "python",
   "nbconvert_exporter": "python",
   "pygments_lexer": "ipython3",
   "version": "3.9.13"
  }
 },
 "nbformat": 4,
 "nbformat_minor": 4
}
